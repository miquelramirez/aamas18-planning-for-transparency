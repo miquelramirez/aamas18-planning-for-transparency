{
 "cells": [
  {
   "cell_type": "code",
   "execution_count": 5,
   "metadata": {
    "collapsed": true
   },
   "outputs": [],
   "source": [
    "%matplotlib notebook\n",
    "import subprocess\n",
    "import os\n",
    "import matplotlib.pyplot as plt\n",
    "from mpl_toolkits.mplot3d import Axes3D"
   ]
  },
  {
   "cell_type": "code",
   "execution_count": 8,
   "metadata": {
    "collapsed": true
   },
   "outputs": [],
   "source": [
    "exe = \"PFT.x\"\n",
    "d = '/home/jobasha/Documents/Dropbox/UniversityWork/PhD/Problems_Paper_AKIZETA5'\n",
    "output_dir = 'results/'\n",
    "output_file = 'results.txt'\n",
    "directories = [os.path.join(d,o) for o in os.listdir(d) if os.path.isdir(os.path.join(d,o))]"
   ]
  },
  {
   "cell_type": "code",
   "execution_count": null,
   "metadata": {
    "collapsed": false
   },
   "outputs": [],
   "source": [
    "for subd in directories :\n",
    "    domain_name = subd + \"/domain.pddl\"\n",
    "    sd = subd\n",
    "    subdirectories = [os.path.join(sd,o) for o in os.listdir(sd) if os.path.isdir(os.path.join(sd,o))]\n",
    "    \n",
    "    for subsubd in subdirectories :\n",
    "        hype_name = subsubd + \"/hyps.dat\"\n",
    "        ssd = subsubd\n",
    "\n",
    "        for subsubsubd in os.listdir(subsubd + \"/planning\"):\n",
    "            problem_file = subsubd + \"/planning/\" + subsubsubd\n",
    "\n",
    "            print(problem_file)\n",
    "    \n",
    "            problem = problem_file\n",
    "            domain = domain_name\n",
    "            goal_set = hype_name\n",
    "            #max_nodes = \"10\"\n",
    "            #df = \"0.5\"\n",
    "            #max_s_nodes = \"10\"\n",
    "            precision = \"2\"\n",
    "\n",
    "            cmd = [\"./PFT.x\"]\n",
    "            flags = [ domain, problem, goal_set,\n",
    "            #    \"-m\", max_nodes,\n",
    "            #    \"-D\", df,\n",
    "            #    \"-s\", max_s_nodes,\n",
    "            #    \"-P\", precision,\n",
    "                \"-c\"]\n",
    "\n",
    "            pipe = subprocess.Popen(\n",
    "                cmd + flags,\n",
    "                stdin=subprocess.PIPE, stdout=subprocess.PIPE, stderr=subprocess.STDOUT)\n",
    "            answer, stderr = pipe.communicate()\n",
    "\n",
    "\n",
    "            lines = str(answer).split(\"\\\\n\")[2:-1]\n",
    "            actions = lines[0].split(\",\")[:-1]\n",
    "            times = list(map(float,lines[1].split(\",\")[:-1]))\n",
    "            distances = list(map(float,lines[2].split(\",\")[:-1]))\n",
    "            average_distance = sum(distances) / float(len(distances))\n",
    "\n",
    "            prob_dists = []\n",
    "            for line in lines[3:]:\n",
    "                prob_dists += [list(map(float,line.split(\",\")[:-1]))]\n",
    "\n",
    "            prob_dists = prob_dists[:-1]\n",
    "            n = 1/len(prob_dists)\n",
    "            prob_dists = [[n] + prob_dists[x] for x in range(len(prob_dists))]\n",
    "            actions = [\"I\"] + actions\n",
    "            \n",
    "            total_time = sum(times)\n",
    "            average_time_per_action = sum(times) / float(len(times))\n",
    "            time_first_action = times[0]\n",
    "            \n",
    "            file_out = open(output_dir + output_file , \"a+\")\n",
    "            file_out.write(subd + \"|\" + subsubsubd)\n",
    "            file_out.write(\"\\t\")\n",
    "            file_out.write(str(total_time))\n",
    "            file_out.write(\"\\t\")\n",
    "            file_out.write(str(time_first_action))\n",
    "            file_out.write(\"\\t\")\n",
    "            file_out.write(str(average_time_per_action))\n",
    "            file_out.write(\"\\t\")\n",
    "            file_out.write(str(average_distance))\n",
    "            file_out.write(\"\\n\")\n",
    "  \n",
    "            file_out.close()\n",
    "\n",
    "\n",
    "            \n",
    "#             print(\"Actions: \")\n",
    "#             print(actions)\n",
    "#             print()\n",
    "#             print(\"Times: \")\n",
    "#             print(times)\n",
    "#             print()\n",
    "#             print(\"Distances: \")\n",
    "#             print(distances)\n",
    "#             print()\n",
    "#             print(\"Probabilities: \")\n",
    "#             print(prob_dists)\n",
    "\n",
    "\n",
    "\n",
    "\n",
    "\n",
    "#             print(prob_dists)\n",
    "\n",
    "\n",
    "\n",
    "#             plt.figure(2)\n",
    "\n",
    "#             axes = plt.gca()\n",
    "#             axes.set_ylim([0,1])\n",
    "#             axes.set_xlabel('actions')\n",
    "#             axes.set_ylabel('P(G | O)')\n",
    "#             counter = 0\n",
    "#             print(actions)\n",
    "#             print(prob_dists[0])\n",
    "\n",
    "#             for i in prob_dists:\n",
    "#                 plt.plot(range(0, len(actions)), i, label=counter)\n",
    "#                 counter += 1\n",
    "#             #plt.xticks(range(0, len(actions)-1), actions)\n",
    "#             plt.legend()\n",
    "\n",
    "#             plt.figure(1)\n",
    "#             ax = plt.axes(projection='3d')\n",
    "\n",
    "#             ax.set_ylim([0,1])\n",
    "#             ax.set_xlim([0,1])\n",
    "#             ax.set_zlim([0,1])\n",
    "\n",
    "#             ax.set_xlabel('P(G2 | O)')\n",
    "#             ax.set_ylabel('P(G1 | O)')\n",
    "#             ax.set_zlabel('P(G* | O)')\n",
    "\n",
    "#             G_star = 0\n",
    "#             G1 = 3\n",
    "#             G2 = 4\n",
    "\n",
    "#             r = range(len(prob_dists[0]))\n",
    "\n",
    "#             p0 = [-prob_dists[G_star][x0] + prob_dists[G_star][x1] for x0 in list(r) for x1 in list(r) if x0 + 1  == x1]\n",
    "#             p1 = [-prob_dists[G1][x0] + prob_dists[G1][x1] for x0 in list(r) for x1 in list(r) if x0 + 1  == x1]\n",
    "#             p2 = [-prob_dists[G2][x0] + prob_dists[G2][x1] for x0 in list(r) for x1 in list(r) if x0 + 1  == x1]\n",
    "\n",
    "#             ax.plot(prob_dists[G1], prob_dists[G2], prob_dists[G_star], '-b')\n",
    "#             ax.quiver(prob_dists[G1][:-1], prob_dists[G2][:-1],prob_dists[G_star][:-1],  p1, p2,p0, length=0.1, pivot='tail')\n",
    "\n",
    "#             plt.show()"
   ]
  },
  {
   "cell_type": "code",
   "execution_count": null,
   "metadata": {
    "collapsed": true
   },
   "outputs": [],
   "source": []
  },
  {
   "cell_type": "code",
   "execution_count": null,
   "metadata": {
    "collapsed": true
   },
   "outputs": [],
   "source": []
  },
  {
   "cell_type": "code",
   "execution_count": null,
   "metadata": {
    "collapsed": true
   },
   "outputs": [],
   "source": []
  },
  {
   "cell_type": "code",
   "execution_count": null,
   "metadata": {
    "collapsed": true
   },
   "outputs": [],
   "source": []
  }
 ],
 "metadata": {
  "kernelspec": {
   "display_name": "Python 3",
   "language": "python",
   "name": "python3"
  },
  "language_info": {
   "codemirror_mode": {
    "name": "ipython",
    "version": 3
   },
   "file_extension": ".py",
   "mimetype": "text/x-python",
   "name": "python",
   "nbconvert_exporter": "python",
   "pygments_lexer": "ipython3",
   "version": "3.5.3"
  }
 },
 "nbformat": 4,
 "nbformat_minor": 1
}
