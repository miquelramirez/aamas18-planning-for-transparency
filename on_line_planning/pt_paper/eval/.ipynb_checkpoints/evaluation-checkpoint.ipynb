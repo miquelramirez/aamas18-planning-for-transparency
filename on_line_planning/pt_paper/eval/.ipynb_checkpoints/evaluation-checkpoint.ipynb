{
 "cells": [
  {
   "cell_type": "code",
   "execution_count": 112,
   "metadata": {
    "collapsed": true
   },
   "outputs": [],
   "source": [
    "import subprocess\n",
    "import os\n",
    "import os.path\n",
    "import sys"
   ]
  },
  {
   "cell_type": "code",
   "execution_count": 109,
   "metadata": {
    "collapsed": false
   },
   "outputs": [],
   "source": [
    "\n",
    "def run_planner(domain, problem, goal_set, static_beta):\n",
    "    cmd = \"\"\n",
    "    if static_beta:\n",
    "        cmd = [\"ulimit -Sv 10000000; PFT.x\" + \" \" + domain + \" \" + problem + \" \" + goal_set+ \" -mcS\"]\n",
    "    else:\n",
    "        cmd = [\"ulimit -Sv 10000000; PFT.x\" + \" \" + domain + \" \" + problem + \" \" + goal_set+ \" -mc\"]\n",
    "\n",
    "    pipe = subprocess.Popen(\n",
    "       cmd,\n",
    "        stdin=subprocess.PIPE, stdout=subprocess.PIPE, stderr=subprocess.STDOUT, shell=True)\n",
    "    answer, stderr = pipe.communicate()\n",
    "\n",
    "    answerlist = answer.decode().split('\\n')[2:]\n",
    "    actionlist = answerlist[0].split(',')[:-1]\n",
    "    timelist = answerlist[1].split(',')[:-1]\n",
    "    fluentnumber = int(answerlist[2])\n",
    "    Qbeta1 = int(answerlist[4])\n",
    "    QbetaInf = int(answerlist[5])\n",
    "    QVbeta = int(answerlist[6])\n",
    "    Qlm = int(answerlist[7])\n",
    "    delete_relaxed_cost = int(answerlist[8])\n",
    "    \n",
    "    return (actionlist, timelist, fluentnumber, Qbeta1, QbetaInf, QVbeta, Qlm, delete_relaxed_cost)\n",
    "\n",
    "def run_lama(domain, problem):\n",
    "    cmd = [ \"time\", \"python\", \"/home/jobasha/Documents/PhD/Planners/FastDownward/fast-downward.py\",\n",
    "             \"--alias\", \"seq-sat-lama-2011\", domain, problem]\n",
    "    pipe = subprocess.Popen(\n",
    "        cmd,\n",
    "        stdin=subprocess.PIPE, stdout=subprocess.PIPE, stderr=subprocess.PIPE)\n",
    "    answer, stderr = pipe.communicate()\n",
    "    #print(answer.decode())\n",
    "    #print(stderr.decode())\n",
    "\n",
    "    answerlist = stderr.decode().split(\"\\n\")\n",
    "    answertemp1 = answerlist[0].split(\"system\")\n",
    "    answertemp2 = answertemp1[0].split(\"user\")\n",
    "\n",
    "    time_taken = sum(list(map(float, answertemp2 )))\n",
    "\n",
    "    file = open(\"sas_plan.1\",\"r\")\n",
    "    counter = 0\n",
    "    plan = []\n",
    "    for lines in file :\n",
    "        counter = counter + 1\n",
    "        plan.append(lines.strip().upper())\n",
    "\n",
    "    plan = plan[:-1]\n",
    "\n",
    "    res_S_b1 = run_plan_rec_thresh(domain,problem,goal_set,\"sas_plan.1\", \"-Sab 1\")\n",
    "    res_S_binf = run_plan_rec_thresh(domain,problem,goal_set,\"sas_plan.1\", \"-Sb 1000000000\")\n",
    "    res_V_b1 = run_plan_rec_thresh(domain,problem,goal_set,\"sas_plan.1\", \"-ab 1\")\n",
    "    res_LM = run_plan_rec_thresh(domain,problem,goal_set,\"sas_plan.1\", \"-l\")\n",
    "    \n",
    "    return (plan, time_taken, res_S_b1[0], res_S_binf[0], res_V_b1[0], res_LM[0] , res_S_b1[1])\n",
    "\n",
    "def run_plan_rec_thresh(domain,problem,goal_set,hyp_file,flags):\n",
    "    try:\n",
    "        exe = \"ulimit -Sv 10000000; plan_recognition_threshold.x\"\n",
    "        files = domain + \" \" + problem + \" \" + goal_set + \" \" + hyp_file\n",
    "        cmd = [exe + \" \" + files + \" \" + flags]\n",
    "        pipe = subprocess.Popen(\n",
    "           cmd,\n",
    "            stdin=subprocess.PIPE, stdout=subprocess.PIPE, stderr=subprocess.STDOUT, shell=True)\n",
    "        answer, stderr = pipe.communicate()\n",
    "\n",
    "        answerlist = answer.decode().split('\\n')\n",
    "        delete_relaxed_cost =  int(answerlist[2])\n",
    "        Q= int(answerlist[1])\n",
    "    except :\n",
    "        Q = -1\n",
    "        delete_relaxed_cost = -1\n",
    "    return (Q,delete_relaxed_cost)\n",
    "\n",
    "def SubDirPath (d):\n",
    "    return list(filter(os.path.isdir, [os.path.join(d,f) for f in os.listdir(d)]))\n",
    "    \n"
   ]
  },
  {
   "cell_type": "code",
   "execution_count": 111,
   "metadata": {
    "collapsed": false
   },
   "outputs": [
    {
     "name": "stdout",
     "output_type": "stream",
     "text": [
      "['/home/jobasha/Documents/Dropbox/Repositories/planningfortransparency/on_line_planning/pt_paper/problems/blocksworld', '/home/jobasha/Documents/Dropbox/Repositories/planningfortransparency/on_line_planning/pt_paper/problems/grid', '/home/jobasha/Documents/Dropbox/Repositories/planningfortransparency/on_line_planning/pt_paper/problems/door-grid', '/home/jobasha/Documents/Dropbox/Repositories/planningfortransparency/on_line_planning/pt_paper/problems/GridNavigation']\n"
     ]
    }
   ],
   "source": [
    "d = '/home/jobasha/Documents/Dropbox/Repositories/planningfortransparency/pddl/poos/'\n",
    "\n",
    "subds = SubDirPath(d)\n",
    "\n",
    "for sd in subds :\n",
    "    domain = sd + \"domain.pddl\"\n",
    "    subsubds = SubDirPath(sd)\n",
    "    domains_to_results = {}\n",
    "    \n",
    "    for ssd in subsubds :\n",
    "        goal_set = ssd + \"hyps.dat\"\n",
    "        planning_dir = os.listdir(ssd + \"/planning/\")\n",
    "        \n",
    "        for problem in planning_dir :\n",
    "            lama_results = run_lama(domain, problem)\n",
    "            pfp_results = run_planner(domain,problem,goal_set, False)\n",
    "            \n",
    "            domains_to_results[sd] = (lama_results, pfp_results)\n",
    "            \n",
    "print(domains_to_results)\n",
    "            \n",
    "            \n",
    "\n"
   ]
  },
  {
   "cell_type": "code",
   "execution_count": null,
   "metadata": {
    "collapsed": true
   },
   "outputs": [],
   "source": []
  }
 ],
 "metadata": {
  "kernelspec": {
   "display_name": "Python 3",
   "language": "python",
   "name": "python3"
  },
  "language_info": {
   "codemirror_mode": {
    "name": "ipython",
    "version": 3
   },
   "file_extension": ".py",
   "mimetype": "text/x-python",
   "name": "python",
   "nbconvert_exporter": "python",
   "pygments_lexer": "ipython3",
   "version": "3.5.1"
  }
 },
 "nbformat": 4,
 "nbformat_minor": 0
}
