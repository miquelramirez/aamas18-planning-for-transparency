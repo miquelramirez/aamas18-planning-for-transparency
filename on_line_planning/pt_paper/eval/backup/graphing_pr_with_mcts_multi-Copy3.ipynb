{
 "cells": [
  {
   "cell_type": "code",
   "execution_count": 1,
   "metadata": {
    "collapsed": true
   },
   "outputs": [],
   "source": [
    "%matplotlib notebook\n",
    "import subprocess\n",
    "import os\n",
    "import matplotlib.pyplot as plt\n",
    "from mpl_toolkits.mplot3d import Axes3D"
   ]
  },
  {
   "cell_type": "code",
   "execution_count": 2,
   "metadata": {
    "collapsed": true
   },
   "outputs": [],
   "source": [
    "exe = \"../PFT.x\"\n",
    "d = '/home/jobasha/Documents/Dropbox/Repositories/planningfortransparency/utilities/create_grid_instance/grids/'\n"
   ]
  },
  {
   "cell_type": "code",
   "execution_count": 3,
   "metadata": {},
   "outputs": [
    {
     "name": "stdout",
     "output_type": "stream",
     "text": [
      "b' --- OK.\\n\\n(MOVE P1 P2),(MOVE P2 P3),(MOVE P3 P4),(MOVE P4 P5),(MOVE P5 P6),(MOVE P6 P7),(MOVE P7 P19),(MOVE P19 P31),(MOVE P31 P43),(MOVE P43 P55),(MOVE P55 P67),(MOVE P67 P79),\\n0.724734,0.669869,0.750663,0.720573,0.799777,0.78465,0.787439,0.75712,0.607411,0.192379,0.066051,0.034966,\\n0.866025,0.82091,0.816611,0.719154,0.707442,0.707113,0.707113,0.707113,0.707113,0.707113,0.707113,0.707113,\\n0.25,0.308794,0.329384,0.445762,0.491004,0.498744,0.498744,0.498764,0.498766,0.498767,0.498767,0.498767,\\n0.25,0.0736183,0.0118487,0.0022044,0.000329317,4.52838e-05,4.52838e-05,6.12898e-06,8.29476e-07,1.12258e-07,1.51924e-08,2.05607e-09,\\n0.25,0.308794,0.329384,0.106272,0.0176626,0.00246641,0.00246641,0.00246651,0.00246652,0.00246652,0.00246652,0.00246652,\\n0.25,0.308794,0.329384,0.445762,0.491004,0.498744,0.498744,0.498764,0.498766,0.498767,0.498767,0.498767,\\n0\\n96\\n'\n"
     ]
    },
    {
     "ename": "IndexError",
     "evalue": "list index out of range",
     "output_type": "error",
     "traceback": [
      "\u001b[0;31m---------------------------------------------------------------------------\u001b[0m",
      "\u001b[0;31mIndexError\u001b[0m                                Traceback (most recent call last)",
      "\u001b[0;32m<ipython-input-3-5449e0e87995>\u001b[0m in \u001b[0;36m<module>\u001b[0;34m()\u001b[0m\n\u001b[1;32m     51\u001b[0m     \u001b[0mresf\u001b[0m\u001b[0;34m.\u001b[0m\u001b[0mclose\u001b[0m\u001b[0;34m(\u001b[0m\u001b[0;34m)\u001b[0m\u001b[0;34m\u001b[0m\u001b[0m\n\u001b[1;32m     52\u001b[0m \u001b[0;34m\u001b[0m\u001b[0m\n\u001b[0;32m---> 53\u001b[0;31m     \u001b[0mcost\u001b[0m \u001b[0;34m=\u001b[0m \u001b[0mstr\u001b[0m\u001b[0;34m(\u001b[0m\u001b[0manswer\u001b[0m\u001b[0;34m)\u001b[0m\u001b[0;34m.\u001b[0m\u001b[0msplit\u001b[0m\u001b[0;34m(\u001b[0m\u001b[0;34m\"\\\\n\"\u001b[0m\u001b[0;34m)\u001b[0m\u001b[0;34m[\u001b[0m\u001b[0;34m-\u001b[0m\u001b[0;36m2\u001b[0m\u001b[0;34m]\u001b[0m\u001b[0;34m.\u001b[0m\u001b[0msplit\u001b[0m\u001b[0;34m(\u001b[0m\u001b[0;34m\"\\\\t\"\u001b[0m\u001b[0;34m)\u001b[0m\u001b[0;34m[\u001b[0m\u001b[0;34m-\u001b[0m\u001b[0;36m2\u001b[0m\u001b[0;34m]\u001b[0m\u001b[0;34m\u001b[0m\u001b[0m\n\u001b[0m\u001b[1;32m     54\u001b[0m     \u001b[0mtime_e\u001b[0m \u001b[0;34m=\u001b[0m \u001b[0mstr\u001b[0m\u001b[0;34m(\u001b[0m\u001b[0manswer\u001b[0m\u001b[0;34m)\u001b[0m\u001b[0;34m.\u001b[0m\u001b[0msplit\u001b[0m\u001b[0;34m(\u001b[0m\u001b[0;34m\"\\\\n\"\u001b[0m\u001b[0;34m)\u001b[0m\u001b[0;34m[\u001b[0m\u001b[0;34m-\u001b[0m\u001b[0;36m2\u001b[0m\u001b[0;34m]\u001b[0m\u001b[0;34m.\u001b[0m\u001b[0msplit\u001b[0m\u001b[0;34m(\u001b[0m\u001b[0;34m\"\\\\t\"\u001b[0m\u001b[0;34m)\u001b[0m\u001b[0;34m[\u001b[0m\u001b[0;34m-\u001b[0m\u001b[0;36m1\u001b[0m\u001b[0;34m]\u001b[0m\u001b[0;34m\u001b[0m\u001b[0m\n\u001b[1;32m     55\u001b[0m     \u001b[0mprint\u001b[0m\u001b[0;34m(\u001b[0m\u001b[0mstr\u001b[0m\u001b[0;34m(\u001b[0m\u001b[0mcount\u001b[0m\u001b[0;34m)\u001b[0m \u001b[0;34m+\u001b[0m \u001b[0;34m\". Problem - \"\u001b[0m \u001b[0;34m+\u001b[0m \u001b[0mstr\u001b[0m\u001b[0;34m(\u001b[0m\u001b[0mn\u001b[0m\u001b[0;34m)\u001b[0m \u001b[0;34m+\u001b[0m \u001b[0;34m\"x\"\u001b[0m \u001b[0;34m+\u001b[0m \u001b[0mstr\u001b[0m\u001b[0;34m(\u001b[0m\u001b[0mm\u001b[0m\u001b[0;34m)\u001b[0m \u001b[0;34m+\u001b[0m \u001b[0;34m\", Cost: \"\u001b[0m \u001b[0;34m+\u001b[0m \u001b[0mstr\u001b[0m\u001b[0;34m(\u001b[0m\u001b[0mcost\u001b[0m\u001b[0;34m)\u001b[0m \u001b[0;34m+\u001b[0m \u001b[0;34m\", \"\u001b[0m \u001b[0;34m+\u001b[0m \u001b[0mstr\u001b[0m\u001b[0;34m(\u001b[0m\u001b[0mtime_e\u001b[0m\u001b[0;34m)\u001b[0m \u001b[0;34m)\u001b[0m\u001b[0;34m\u001b[0m\u001b[0m\n",
      "\u001b[0;31mIndexError\u001b[0m: list index out of range"
     ]
    }
   ],
   "source": [
    "import time\n",
    "\n",
    "output_dir = '../results/'\n",
    "output_file = 'results_c.txt'\n",
    "\n",
    "object_vector_c = []\n",
    "time_first_action_vector_c = []\n",
    "domain = d + \"/domain.pddl\"\n",
    "count = 0\n",
    "for problem_n in os.listdir(d):\n",
    "    #print(problem_n)\n",
    "#     try:\n",
    "    if(not problem_n.startswith(\"problem\")):\n",
    "        continue\n",
    "\n",
    "    count = count + 1\n",
    "\n",
    "    problem_file = d + problem_n\n",
    "    numbers = problem_n.split('_')\n",
    "\n",
    "    n = int(numbers[1])\n",
    "    m = int(numbers[2])\n",
    "    objects = n*m\n",
    "\n",
    "    hype = d + \"hype_\" + str(n) + \"_\" + str(m) + \".dat\"\n",
    "\n",
    "    #print(\"\\t\" +problem_file)\n",
    "\n",
    "    problem = problem_file\n",
    "    goal_set = hype\n",
    "    #max_nodes = \"10\"\n",
    "    #df = \"0.5\"\n",
    "    #max_s_nodes = \"10\"\n",
    "    precision = \"2\"\n",
    "\n",
    "    cmd = [\".././PFT.x\"]\n",
    "    flags = [ domain, problem, goal_set,\n",
    "        #    \"-m\", max_nodes,\n",
    "        #    \"-D\", df,\n",
    "        #    \"-s\", max_s_nodes,\n",
    "        #    \"-P\", precision,\n",
    "            \"-cm\"]\n",
    "\n",
    "    pipe = subprocess.Popen(\n",
    "        cmd + flags,\n",
    "        stdin=subprocess.PIPE, stdout=subprocess.PIPE, stderr=subprocess.STDOUT)\n",
    "    answer, stderr = pipe.communicate()\n",
    "    print(str(answer))\n",
    "    resf = open(output_dir + problem_n + \".res\", \"w\")\n",
    "    resf.write(str(answer))\n",
    "    resf.close()\n",
    "\n",
    "    cost = str(answer).split(\"\\\\n\")[-2].split(\"\\\\t\")[-2]\n",
    "    time_e = str(answer).split(\"\\\\n\")[-2].split(\"\\\\t\")[-1]\n",
    "    print(str(count) + \". Problem - \" + str(n) + \"x\" + str(m) + \", Cost: \" + str(cost) + \", \" + str(time_e) )\n",
    "\n",
    "    object_vector_c.append(objects)\n",
    "    time_first_action_vector_c.append(time_e)\n",
    "\n",
    "#     except:\n",
    "#         continue"
   ]
  },
  {
   "cell_type": "code",
   "execution_count": null,
   "metadata": {},
   "outputs": [],
   "source": [
    "plt.figure(2)\n",
    "plt.ylim([-1,7])\n",
    "plt.xlabel('Objects')\n",
    "plt.ylabel('Time for Plan (s)')\n",
    "plt.scatter(object_vector_c, time_first_action_vector_c)\n"
   ]
  },
  {
   "cell_type": "code",
   "execution_count": null,
   "metadata": {
    "collapsed": true
   },
   "outputs": [],
   "source": []
  }
 ],
 "metadata": {
  "kernelspec": {
   "display_name": "Python 3",
   "language": "python",
   "name": "python3"
  },
  "language_info": {
   "codemirror_mode": {
    "name": "ipython",
    "version": 3
   },
   "file_extension": ".py",
   "mimetype": "text/x-python",
   "name": "python",
   "nbconvert_exporter": "python",
   "pygments_lexer": "ipython3",
   "version": "3.6.1"
  }
 },
 "nbformat": 4,
 "nbformat_minor": 1
}
